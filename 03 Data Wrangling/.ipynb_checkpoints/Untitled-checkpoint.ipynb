{
 "cells": [
  {
   "cell_type": "code",
   "execution_count": 8,
   "id": "743e6e60",
   "metadata": {},
   "outputs": [],
   "source": [
    "import numpy as np\n"
   ]
  },
  {
   "cell_type": "code",
   "execution_count": 3,
   "id": "73a99ee7",
   "metadata": {},
   "outputs": [
    {
     "data": {
      "text/plain": [
       "<scipy.spatial.ckdtree.cKDTree at 0x7ffaf87da040>"
      ]
     },
     "execution_count": 3,
     "metadata": {},
     "output_type": "execute_result"
    }
   ],
   "source": [
    "points = np.array([(1,2), (3,4), (4,5)])\n",
    "point_tree = spatial.cKDTree(points)"
   ]
  },
  {
   "cell_type": "code",
   "execution_count": 4,
   "id": "af58afe6",
   "metadata": {},
   "outputs": [
    {
     "name": "stdout",
     "output_type": "stream",
     "text": [
      "[0]\n"
     ]
    }
   ],
   "source": [
    "# This finds the index of all points within distance 1 of [1.5,2.5].\n",
    "print(point_tree.query_ball_point([1.5, 2.5], 1))"
   ]
  },
  {
   "cell_type": "code",
   "execution_count": 5,
   "id": "b7e7b489",
   "metadata": {},
   "outputs": [
    {
     "name": "stdout",
     "output_type": "stream",
     "text": [
      "[[1. 2.]]\n"
     ]
    }
   ],
   "source": [
    "# This gives the point in the KDTree which is within 1 unit of [1.5, 2.5]\n",
    "print(point_tree.data[point_tree.query_ball_point([1.5, 2.5], 1)])\n",
    "# [[1 2]]"
   ]
  },
  {
   "cell_type": "code",
   "execution_count": 7,
   "id": "0b787376",
   "metadata": {},
   "outputs": [
    {
     "name": "stdout",
     "output_type": "stream",
     "text": [
      "[[1. 2.]\n",
      " [3. 4.]]\n"
     ]
    }
   ],
   "source": [
    "# More than one point is within 3 units of [1.5, 1.6].\n",
    "print(point_tree.data[point_tree.query_ball_point([1.5, 1.6], 3)])"
   ]
  },
  {
   "cell_type": "code",
   "execution_count": null,
   "id": "96ba73df",
   "metadata": {},
   "outputs": [],
   "source": []
  },
  {
   "cell_type": "code",
   "execution_count": null,
   "id": "66a45695",
   "metadata": {},
   "outputs": [],
   "source": [
    "max distance = 0.0001 # Assuming lats and longs are in decimal degrees, this corresponds to 11.1 meters\n"
   ]
  }
 ],
 "metadata": {
  "kernelspec": {
   "display_name": "Python 3 (ipykernel)",
   "language": "python",
   "name": "python3"
  },
  "language_info": {
   "codemirror_mode": {
    "name": "ipython",
    "version": 3
   },
   "file_extension": ".py",
   "mimetype": "text/x-python",
   "name": "python",
   "nbconvert_exporter": "python",
   "pygments_lexer": "ipython3",
   "version": "3.9.7"
  }
 },
 "nbformat": 4,
 "nbformat_minor": 5
}
